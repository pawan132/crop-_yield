{
 "cells": [
  {
   "cell_type": "code",
   "execution_count": 1,
   "id": "4c002e91-b60c-46ff-b17e-95d6f6fcd525",
   "metadata": {},
   "outputs": [],
   "source": [
    "import numpy as np"
   ]
  },
  {
   "cell_type": "code",
   "execution_count": 2,
   "id": "7c467104-fb75-4e3b-8239-811ae5c51dd2",
   "metadata": {},
   "outputs": [],
   "source": [
    "import numpy as np\n",
    "import pandas as pd\n",
    "import matplotlib.pyplot as plt\n",
    "import seaborn as sns"
   ]
  },
  {
   "cell_type": "code",
   "execution_count": 3,
   "id": "6985a502-365a-4fcf-988e-ec3882bc2525",
   "metadata": {},
   "outputs": [
    {
     "name": "stdout",
     "output_type": "stream",
     "text": [
      "Requirement already satisfied: numpy in c:\\users\\kumar\\appdata\\local\\programs\\python\\python312\\lib\\site-packages (1.26.4)\n"
     ]
    }
   ],
   "source": [
    "!pip install numpy"
   ]
  },
  {
   "cell_type": "code",
   "execution_count": 4,
   "id": "9c9be7a9-c772-48d0-a8d0-0617739b6d7c",
   "metadata": {},
   "outputs": [],
   "source": [
    "import numpy as np\n"
   ]
  },
  {
   "cell_type": "code",
   "execution_count": 5,
   "id": "b2bd28eb-5a6c-4835-8942-81ee61d5f7cb",
   "metadata": {},
   "outputs": [
    {
     "ename": "SyntaxError",
     "evalue": "invalid syntax (842801469.py, line 1)",
     "output_type": "error",
     "traceback": [
      "\u001b[1;36m  Cell \u001b[1;32mIn[5], line 1\u001b[1;36m\u001b[0m\n\u001b[1;33m    python.exe -m pip install --upgrade pip\u001b[0m\n\u001b[1;37m                  ^\u001b[0m\n\u001b[1;31mSyntaxError\u001b[0m\u001b[1;31m:\u001b[0m invalid syntax\n"
     ]
    }
   ],
   "source": [
    "python.exe -m pip install --upgrade pip"
   ]
  },
  {
   "cell_type": "code",
   "execution_count": null,
   "id": "60d3b696-be93-4b35-8786-a10b7aa56acc",
   "metadata": {},
   "outputs": [
    {
     "name": "stdout",
     "output_type": "stream",
     "text": [
      "Requirement already satisfied: numpy in c:\\users\\kumar\\appdata\\local\\programs\\python\\python312\\lib\\site-packages (1.26.4)\n"
     ]
    }
   ],
   "source": [
    "!pip install numpy"
   ]
  },
  {
   "cell_type": "code",
   "execution_count": null,
   "id": "e6f47857-9cec-40e2-9ab5-5b1590bb32e6",
   "metadata": {},
   "outputs": [],
   "source": [
    "import numpy as np"
   ]
  },
  {
   "cell_type": "code",
   "execution_count": null,
   "id": "cd668105-94af-437a-8908-22863f74c00b",
   "metadata": {},
   "outputs": [],
   "source": [
    "import pandas as pd\n",
    "import matplotlib.pyplot as plt\n",
    "import seaborn as sns"
   ]
  },
  {
   "cell_type": "code",
   "execution_count": null,
   "id": "cf353493-f003-4ae4-b8f2-085220d6d113",
   "metadata": {},
   "outputs": [
    {
     "name": "stdout",
     "output_type": "stream",
     "text": [
      "Collecting pandas\n",
      "  Downloading pandas-2.2.1-cp312-cp312-win_amd64.whl.metadata (19 kB)\n",
      "Requirement already satisfied: numpy<2,>=1.26.0 in c:\\users\\kumar\\appdata\\local\\programs\\python\\python312\\lib\\site-packages (from pandas) (1.26.4)\n",
      "Requirement already satisfied: python-dateutil>=2.8.2 in c:\\users\\kumar\\appdata\\local\\programs\\python\\python312\\lib\\site-packages (from pandas) (2.8.2)\n",
      "Collecting pytz>=2020.1 (from pandas)\n",
      "  Downloading pytz-2024.1-py2.py3-none-any.whl.metadata (22 kB)\n",
      "Collecting tzdata>=2022.7 (from pandas)\n",
      "  Downloading tzdata-2024.1-py2.py3-none-any.whl.metadata (1.4 kB)\n",
      "Requirement already satisfied: six>=1.5 in c:\\users\\kumar\\appdata\\local\\programs\\python\\python312\\lib\\site-packages (from python-dateutil>=2.8.2->pandas) (1.16.0)\n",
      "Downloading pandas-2.2.1-cp312-cp312-win_amd64.whl (11.5 MB)\n",
      "   ---------------------------------------- 0.0/11.5 MB ? eta -:--:--\n",
      "   - -------------------------------------- 0.3/11.5 MB 6.3 MB/s eta 0:00:02\n",
      "   -- ------------------------------------- 0.7/11.5 MB 7.8 MB/s eta 0:00:02\n",
      "   ---- ----------------------------------- 1.2/11.5 MB 8.8 MB/s eta 0:00:02\n",
      "   ------ --------------------------------- 1.8/11.5 MB 9.4 MB/s eta 0:00:02\n",
      "   ------- -------------------------------- 2.3/11.5 MB 9.8 MB/s eta 0:00:01\n",
      "   --------- ------------------------------ 2.7/11.5 MB 9.4 MB/s eta 0:00:01\n",
      "   ---------- ----------------------------- 3.1/11.5 MB 9.4 MB/s eta 0:00:01\n",
      "   ------------ --------------------------- 3.6/11.5 MB 9.5 MB/s eta 0:00:01\n",
      "   -------------- ------------------------- 4.1/11.5 MB 9.6 MB/s eta 0:00:01\n",
      "   --------------- ------------------------ 4.6/11.5 MB 9.7 MB/s eta 0:00:01\n",
      "   ----------------- ---------------------- 5.1/11.5 MB 9.8 MB/s eta 0:00:01\n",
      "   ------------------- -------------------- 5.5/11.5 MB 9.8 MB/s eta 0:00:01\n",
      "   ------------------- -------------------- 5.7/11.5 MB 9.6 MB/s eta 0:00:01\n",
      "   ------------------- -------------------- 5.7/11.5 MB 9.6 MB/s eta 0:00:01\n",
      "   ------------------- -------------------- 5.7/11.5 MB 9.6 MB/s eta 0:00:01\n",
      "   ------------------- -------------------- 5.7/11.5 MB 9.6 MB/s eta 0:00:01\n",
      "   ------------------- -------------------- 5.7/11.5 MB 9.6 MB/s eta 0:00:01\n",
      "   -------------------- ------------------- 5.7/11.5 MB 6.8 MB/s eta 0:00:01\n",
      "   -------------------- ------------------- 6.0/11.5 MB 6.7 MB/s eta 0:00:01\n",
      "   --------------------- ------------------ 6.2/11.5 MB 6.7 MB/s eta 0:00:01\n",
      "   ---------------------- ----------------- 6.4/11.5 MB 6.5 MB/s eta 0:00:01\n",
      "   ---------------------- ----------------- 6.6/11.5 MB 6.4 MB/s eta 0:00:01\n",
      "   ----------------------- ---------------- 6.8/11.5 MB 6.3 MB/s eta 0:00:01\n",
      "   ------------------------ --------------- 7.0/11.5 MB 6.2 MB/s eta 0:00:01\n",
      "   ------------------------- -------------- 7.3/11.5 MB 6.2 MB/s eta 0:00:01\n",
      "   -------------------------- ------------- 7.6/11.5 MB 6.2 MB/s eta 0:00:01\n",
      "   --------------------------- ------------ 7.9/11.5 MB 6.2 MB/s eta 0:00:01\n",
      "   ---------------------------- ----------- 8.1/11.5 MB 6.2 MB/s eta 0:00:01\n",
      "   ----------------------------- ---------- 8.5/11.5 MB 6.2 MB/s eta 0:00:01\n",
      "   ------------------------------ --------- 8.8/11.5 MB 6.3 MB/s eta 0:00:01\n",
      "   ------------------------------- -------- 9.1/11.5 MB 6.3 MB/s eta 0:00:01\n",
      "   --------------------------------- ------ 9.6/11.5 MB 6.4 MB/s eta 0:00:01\n",
      "   ---------------------------------- ----- 10.0/11.5 MB 6.5 MB/s eta 0:00:01\n",
      "   ------------------------------------ --- 10.5/11.5 MB 6.5 MB/s eta 0:00:01\n",
      "   ------------------------------------- -- 10.9/11.5 MB 6.6 MB/s eta 0:00:01\n",
      "   ---------------------------------------  11.5/11.5 MB 6.5 MB/s eta 0:00:01\n",
      "   ---------------------------------------  11.5/11.5 MB 6.5 MB/s eta 0:00:01\n",
      "   ---------------------------------------- 11.5/11.5 MB 6.3 MB/s eta 0:00:00\n",
      "Downloading pytz-2024.1-py2.py3-none-any.whl (505 kB)\n",
      "   ---------------------------------------- 0.0/505.5 kB ? eta -:--:--\n",
      "   --------------------------------------  501.8/505.5 kB 15.4 MB/s eta 0:00:01\n",
      "   ---------------------------------------- 505.5/505.5 kB 7.9 MB/s eta 0:00:00\n",
      "Downloading tzdata-2024.1-py2.py3-none-any.whl (345 kB)\n",
      "   ---------------------------------------- 0.0/345.4 kB ? eta -:--:--\n",
      "   ---------------------------------------- 345.4/345.4 kB 7.1 MB/s eta 0:00:00\n",
      "Installing collected packages: pytz, tzdata, pandas\n",
      "Successfully installed pandas-2.2.1 pytz-2024.1 tzdata-2024.1\n"
     ]
    }
   ],
   "source": [
    "!pip install pandas"
   ]
  },
  {
   "cell_type": "code",
   "execution_count": null,
   "id": "5be6e33a-5d3a-4757-8eee-b334012da390",
   "metadata": {},
   "outputs": [],
   "source": [
    "import pandas as pd"
   ]
  },
  {
   "cell_type": "code",
   "execution_count": null,
   "id": "c1a75e84-6c43-4b04-ad5a-e579de59adbe",
   "metadata": {},
   "outputs": [
    {
     "name": "stdout",
     "output_type": "stream",
     "text": [
      "Collecting matplotlib\n",
      "  Downloading matplotlib-3.8.3-cp312-cp312-win_amd64.whl.metadata (5.9 kB)\n",
      "Collecting contourpy>=1.0.1 (from matplotlib)\n",
      "  Downloading contourpy-1.2.0-cp312-cp312-win_amd64.whl.metadata (5.8 kB)\n",
      "Collecting cycler>=0.10 (from matplotlib)\n",
      "  Downloading cycler-0.12.1-py3-none-any.whl.metadata (3.8 kB)\n",
      "Collecting fonttools>=4.22.0 (from matplotlib)\n",
      "  Downloading fonttools-4.49.0-cp312-cp312-win_amd64.whl.metadata (162 kB)\n",
      "     ---------------------------------------- 0.0/162.3 kB ? eta -:--:--\n",
      "     -- ------------------------------------- 10.2/162.3 kB ? eta -:--:--\n",
      "     ----------------------------------- -- 153.6/162.3 kB 2.3 MB/s eta 0:00:01\n",
      "     -------------------------------------- 162.3/162.3 kB 1.9 MB/s eta 0:00:00\n",
      "Collecting kiwisolver>=1.3.1 (from matplotlib)\n",
      "  Downloading kiwisolver-1.4.5-cp312-cp312-win_amd64.whl.metadata (6.5 kB)\n",
      "Requirement already satisfied: numpy<2,>=1.21 in c:\\users\\kumar\\appdata\\local\\programs\\python\\python312\\lib\\site-packages (from matplotlib) (1.26.4)\n",
      "Requirement already satisfied: packaging>=20.0 in c:\\users\\kumar\\appdata\\local\\programs\\python\\python312\\lib\\site-packages (from matplotlib) (23.2)\n",
      "Collecting pillow>=8 (from matplotlib)\n",
      "  Downloading pillow-10.2.0-cp312-cp312-win_amd64.whl.metadata (9.9 kB)\n",
      "Collecting pyparsing>=2.3.1 (from matplotlib)\n",
      "  Downloading pyparsing-3.1.1-py3-none-any.whl.metadata (5.1 kB)\n",
      "Requirement already satisfied: python-dateutil>=2.7 in c:\\users\\kumar\\appdata\\local\\programs\\python\\python312\\lib\\site-packages (from matplotlib) (2.8.2)\n",
      "Requirement already satisfied: six>=1.5 in c:\\users\\kumar\\appdata\\local\\programs\\python\\python312\\lib\\site-packages (from python-dateutil>=2.7->matplotlib) (1.16.0)\n",
      "Downloading matplotlib-3.8.3-cp312-cp312-win_amd64.whl (7.6 MB)\n",
      "   ---------------------------------------- 0.0/7.6 MB ? eta -:--:--\n",
      "   - -------------------------------------- 0.2/7.6 MB 4.6 MB/s eta 0:00:02\n",
      "   --- ------------------------------------ 0.6/7.6 MB 6.3 MB/s eta 0:00:02\n",
      "   ----- ---------------------------------- 1.1/7.6 MB 7.6 MB/s eta 0:00:01\n",
      "   -------- ------------------------------- 1.5/7.6 MB 8.9 MB/s eta 0:00:01\n",
      "   --------- ------------------------------ 1.8/7.6 MB 7.5 MB/s eta 0:00:01\n",
      "   ------------ --------------------------- 2.5/7.6 MB 8.3 MB/s eta 0:00:01\n",
      "   ---------------- ----------------------- 3.1/7.6 MB 8.7 MB/s eta 0:00:01\n",
      "   ------------------ --------------------- 3.6/7.6 MB 8.8 MB/s eta 0:00:01\n",
      "   --------------------- ------------------ 4.2/7.6 MB 9.2 MB/s eta 0:00:01\n",
      "   ------------------------ --------------- 4.7/7.6 MB 9.4 MB/s eta 0:00:01\n",
      "   --------------------------- ------------ 5.2/7.6 MB 9.7 MB/s eta 0:00:01\n",
      "   ----------------------------- ---------- 5.7/7.6 MB 9.9 MB/s eta 0:00:01\n",
      "   -------------------------------- ------- 6.2/7.6 MB 9.9 MB/s eta 0:00:01\n",
      "   ---------------------------------- ----- 6.7/7.6 MB 9.9 MB/s eta 0:00:01\n",
      "   ------------------------------------- -- 7.2/7.6 MB 10.0 MB/s eta 0:00:01\n",
      "   ---------------------------------------  7.6/7.6 MB 10.0 MB/s eta 0:00:01\n",
      "   ---------------------------------------- 7.6/7.6 MB 9.4 MB/s eta 0:00:00\n",
      "Downloading contourpy-1.2.0-cp312-cp312-win_amd64.whl (187 kB)\n",
      "   ---------------------------------------- 0.0/187.7 kB ? eta -:--:--\n",
      "   ---------------------------------------- 187.7/187.7 kB 5.7 MB/s eta 0:00:00\n",
      "Downloading cycler-0.12.1-py3-none-any.whl (8.3 kB)\n",
      "Downloading fonttools-4.49.0-cp312-cp312-win_amd64.whl (2.2 MB)\n",
      "   ---------------------------------------- 0.0/2.2 MB ? eta -:--:--\n",
      "   --------- ------------------------------ 0.5/2.2 MB 15.9 MB/s eta 0:00:01\n",
      "   ------------------- -------------------- 1.0/2.2 MB 13.3 MB/s eta 0:00:01\n",
      "   --------------------------- ------------ 1.5/2.2 MB 10.7 MB/s eta 0:00:01\n",
      "   ------------------------------------ --- 2.0/2.2 MB 10.6 MB/s eta 0:00:01\n",
      "   ---------------------------------------- 2.2/2.2 MB 9.9 MB/s eta 0:00:00\n",
      "Downloading kiwisolver-1.4.5-cp312-cp312-win_amd64.whl (56 kB)\n",
      "   ---------------------------------------- 0.0/56.0 kB ? eta -:--:--\n",
      "   ---------------------------------------- 56.0/56.0 kB 2.9 MB/s eta 0:00:00\n",
      "Downloading pillow-10.2.0-cp312-cp312-win_amd64.whl (2.6 MB)\n",
      "   ---------------------------------------- 0.0/2.6 MB ? eta -:--:--\n",
      "   ------- -------------------------------- 0.5/2.6 MB 10.0 MB/s eta 0:00:01\n",
      "   --------------- ------------------------ 1.0/2.6 MB 12.7 MB/s eta 0:00:01\n",
      "   ------------------- -------------------- 1.3/2.6 MB 10.2 MB/s eta 0:00:01\n",
      "   ------------------------- -------------- 1.7/2.6 MB 9.8 MB/s eta 0:00:01\n",
      "   -------------------------------- ------- 2.1/2.6 MB 9.6 MB/s eta 0:00:01\n",
      "   ------------------------------------- -- 2.5/2.6 MB 9.2 MB/s eta 0:00:01\n",
      "   ---------------------------------------  2.6/2.6 MB 9.3 MB/s eta 0:00:01\n",
      "   ---------------------------------------- 2.6/2.6 MB 8.4 MB/s eta 0:00:00\n",
      "Downloading pyparsing-3.1.1-py3-none-any.whl (103 kB)\n",
      "   ---------------------------------------- 0.0/103.1 kB ? eta -:--:--\n",
      "   ---------------------------------------- 103.1/103.1 kB 5.8 MB/s eta 0:00:00\n",
      "Installing collected packages: pyparsing, pillow, kiwisolver, fonttools, cycler, contourpy, matplotlib\n",
      "Successfully installed contourpy-1.2.0 cycler-0.12.1 fonttools-4.49.0 kiwisolver-1.4.5 matplotlib-3.8.3 pillow-10.2.0 pyparsing-3.1.1\n"
     ]
    }
   ],
   "source": [
    "!pip install matplotlib\n"
   ]
  },
  {
   "cell_type": "code",
   "execution_count": null,
   "id": "3558d3b8-b28d-497f-abc8-20e44ea4eec8",
   "metadata": {},
   "outputs": [],
   "source": [
    "import matplotlib.pyplot as plt"
   ]
  },
  {
   "cell_type": "code",
   "execution_count": null,
   "id": "e89b9b53-578c-49f7-b51d-2a4b6b34272b",
   "metadata": {},
   "outputs": [
    {
     "ename": "ModuleNotFoundError",
     "evalue": "No module named 'seaborn'",
     "output_type": "error",
     "traceback": [
      "\u001b[1;31m---------------------------------------------------------------------------\u001b[0m",
      "\u001b[1;31mModuleNotFoundError\u001b[0m                       Traceback (most recent call last)",
      "Cell \u001b[1;32mIn[19], line 1\u001b[0m\n\u001b[1;32m----> 1\u001b[0m \u001b[38;5;28;01mimport\u001b[39;00m \u001b[38;5;21;01mseaborn\u001b[39;00m \u001b[38;5;28;01mas\u001b[39;00m \u001b[38;5;21;01msns\u001b[39;00m\n",
      "\u001b[1;31mModuleNotFoundError\u001b[0m: No module named 'seaborn'"
     ]
    }
   ],
   "source": [
    "import seaborn as sns"
   ]
  },
  {
   "cell_type": "code",
   "execution_count": null,
   "id": "998213ce-b76d-4b06-8732-e6b95cadf563",
   "metadata": {},
   "outputs": [
    {
     "name": "stdout",
     "output_type": "stream",
     "text": [
      "Collecting seaborn\n",
      "  Downloading seaborn-0.13.2-py3-none-any.whl.metadata (5.4 kB)\n",
      "Requirement already satisfied: numpy!=1.24.0,>=1.20 in c:\\users\\kumar\\appdata\\local\\programs\\python\\python312\\lib\\site-packages (from seaborn) (1.26.4)\n",
      "Requirement already satisfied: pandas>=1.2 in c:\\users\\kumar\\appdata\\local\\programs\\python\\python312\\lib\\site-packages (from seaborn) (2.2.1)\n",
      "Requirement already satisfied: matplotlib!=3.6.1,>=3.4 in c:\\users\\kumar\\appdata\\local\\programs\\python\\python312\\lib\\site-packages (from seaborn) (3.8.3)\n",
      "Requirement already satisfied: contourpy>=1.0.1 in c:\\users\\kumar\\appdata\\local\\programs\\python\\python312\\lib\\site-packages (from matplotlib!=3.6.1,>=3.4->seaborn) (1.2.0)\n",
      "Requirement already satisfied: cycler>=0.10 in c:\\users\\kumar\\appdata\\local\\programs\\python\\python312\\lib\\site-packages (from matplotlib!=3.6.1,>=3.4->seaborn) (0.12.1)\n",
      "Requirement already satisfied: fonttools>=4.22.0 in c:\\users\\kumar\\appdata\\local\\programs\\python\\python312\\lib\\site-packages (from matplotlib!=3.6.1,>=3.4->seaborn) (4.49.0)\n",
      "Requirement already satisfied: kiwisolver>=1.3.1 in c:\\users\\kumar\\appdata\\local\\programs\\python\\python312\\lib\\site-packages (from matplotlib!=3.6.1,>=3.4->seaborn) (1.4.5)\n",
      "Requirement already satisfied: packaging>=20.0 in c:\\users\\kumar\\appdata\\local\\programs\\python\\python312\\lib\\site-packages (from matplotlib!=3.6.1,>=3.4->seaborn) (23.2)\n",
      "Requirement already satisfied: pillow>=8 in c:\\users\\kumar\\appdata\\local\\programs\\python\\python312\\lib\\site-packages (from matplotlib!=3.6.1,>=3.4->seaborn) (10.2.0)\n",
      "Requirement already satisfied: pyparsing>=2.3.1 in c:\\users\\kumar\\appdata\\local\\programs\\python\\python312\\lib\\site-packages (from matplotlib!=3.6.1,>=3.4->seaborn) (3.1.1)\n",
      "Requirement already satisfied: python-dateutil>=2.7 in c:\\users\\kumar\\appdata\\local\\programs\\python\\python312\\lib\\site-packages (from matplotlib!=3.6.1,>=3.4->seaborn) (2.8.2)\n",
      "Requirement already satisfied: pytz>=2020.1 in c:\\users\\kumar\\appdata\\local\\programs\\python\\python312\\lib\\site-packages (from pandas>=1.2->seaborn) (2024.1)\n",
      "Requirement already satisfied: tzdata>=2022.7 in c:\\users\\kumar\\appdata\\local\\programs\\python\\python312\\lib\\site-packages (from pandas>=1.2->seaborn) (2024.1)\n",
      "Requirement already satisfied: six>=1.5 in c:\\users\\kumar\\appdata\\local\\programs\\python\\python312\\lib\\site-packages (from python-dateutil>=2.7->matplotlib!=3.6.1,>=3.4->seaborn) (1.16.0)\n",
      "Downloading seaborn-0.13.2-py3-none-any.whl (294 kB)\n",
      "   ---------------------------------------- 0.0/294.9 kB ? eta -:--:--\n",
      "   ---------------------------------------- 0.0/294.9 kB ? eta -:--:--\n",
      "   - -------------------------------------- 10.2/294.9 kB ? eta -:--:--\n",
      "   - -------------------------------------- 10.2/294.9 kB ? eta -:--:--\n",
      "   ----- --------------------------------- 41.0/294.9 kB 393.8 kB/s eta 0:00:01\n",
      "   -------------------------------------- - 286.7/294.9 kB 2.0 MB/s eta 0:00:01\n",
      "   ---------------------------------------- 294.9/294.9 kB 1.8 MB/s eta 0:00:00\n",
      "Installing collected packages: seaborn\n",
      "Successfully installed seaborn-0.13.2\n"
     ]
    }
   ],
   "source": [
    "!pip install seaborn\n"
   ]
  },
  {
   "cell_type": "code",
   "execution_count": null,
   "id": "ddeb9433-de7c-4dd0-837c-fb16539e0848",
   "metadata": {},
   "outputs": [],
   "source": [
    "import seaborn as sns"
   ]
  },
  {
   "cell_type": "code",
   "execution_count": null,
   "id": "db5de7de-fead-4096-a5b4-48e41198f966",
   "metadata": {},
   "outputs": [
    {
     "data": {
      "text/html": [
       "<div>\n",
       "<style scoped>\n",
       "    .dataframe tbody tr th:only-of-type {\n",
       "        vertical-align: middle;\n",
       "    }\n",
       "\n",
       "    .dataframe tbody tr th {\n",
       "        vertical-align: top;\n",
       "    }\n",
       "\n",
       "    .dataframe thead th {\n",
       "        text-align: right;\n",
       "    }\n",
       "</style>\n",
       "<table border=\"1\" class=\"dataframe\">\n",
       "  <thead>\n",
       "    <tr style=\"text-align: right;\">\n",
       "      <th></th>\n",
       "      <th>Unnamed: 0</th>\n",
       "      <th>Area</th>\n",
       "      <th>Item</th>\n",
       "      <th>Year</th>\n",
       "      <th>hg/ha_yield</th>\n",
       "      <th>average_rain_fall_mm_per_year</th>\n",
       "      <th>pesticides_tonnes</th>\n",
       "      <th>avg_temp</th>\n",
       "    </tr>\n",
       "  </thead>\n",
       "  <tbody>\n",
       "    <tr>\n",
       "      <th>0</th>\n",
       "      <td>0</td>\n",
       "      <td>Albania</td>\n",
       "      <td>Maize</td>\n",
       "      <td>1990</td>\n",
       "      <td>36613</td>\n",
       "      <td>1485.0</td>\n",
       "      <td>121.0</td>\n",
       "      <td>16.37</td>\n",
       "    </tr>\n",
       "    <tr>\n",
       "      <th>1</th>\n",
       "      <td>1</td>\n",
       "      <td>Albania</td>\n",
       "      <td>Potatoes</td>\n",
       "      <td>1990</td>\n",
       "      <td>66667</td>\n",
       "      <td>1485.0</td>\n",
       "      <td>121.0</td>\n",
       "      <td>16.37</td>\n",
       "    </tr>\n",
       "    <tr>\n",
       "      <th>2</th>\n",
       "      <td>2</td>\n",
       "      <td>Albania</td>\n",
       "      <td>Rice, paddy</td>\n",
       "      <td>1990</td>\n",
       "      <td>23333</td>\n",
       "      <td>1485.0</td>\n",
       "      <td>121.0</td>\n",
       "      <td>16.37</td>\n",
       "    </tr>\n",
       "    <tr>\n",
       "      <th>3</th>\n",
       "      <td>3</td>\n",
       "      <td>Albania</td>\n",
       "      <td>Sorghum</td>\n",
       "      <td>1990</td>\n",
       "      <td>12500</td>\n",
       "      <td>1485.0</td>\n",
       "      <td>121.0</td>\n",
       "      <td>16.37</td>\n",
       "    </tr>\n",
       "    <tr>\n",
       "      <th>4</th>\n",
       "      <td>4</td>\n",
       "      <td>Albania</td>\n",
       "      <td>Soybeans</td>\n",
       "      <td>1990</td>\n",
       "      <td>7000</td>\n",
       "      <td>1485.0</td>\n",
       "      <td>121.0</td>\n",
       "      <td>16.37</td>\n",
       "    </tr>\n",
       "    <tr>\n",
       "      <th>5</th>\n",
       "      <td>5</td>\n",
       "      <td>Albania</td>\n",
       "      <td>Wheat</td>\n",
       "      <td>1990</td>\n",
       "      <td>30197</td>\n",
       "      <td>1485.0</td>\n",
       "      <td>121.0</td>\n",
       "      <td>16.37</td>\n",
       "    </tr>\n",
       "    <tr>\n",
       "      <th>6</th>\n",
       "      <td>6</td>\n",
       "      <td>Albania</td>\n",
       "      <td>Maize</td>\n",
       "      <td>1991</td>\n",
       "      <td>29068</td>\n",
       "      <td>1485.0</td>\n",
       "      <td>121.0</td>\n",
       "      <td>15.36</td>\n",
       "    </tr>\n",
       "    <tr>\n",
       "      <th>7</th>\n",
       "      <td>7</td>\n",
       "      <td>Albania</td>\n",
       "      <td>Potatoes</td>\n",
       "      <td>1991</td>\n",
       "      <td>77818</td>\n",
       "      <td>1485.0</td>\n",
       "      <td>121.0</td>\n",
       "      <td>15.36</td>\n",
       "    </tr>\n",
       "    <tr>\n",
       "      <th>8</th>\n",
       "      <td>8</td>\n",
       "      <td>Albania</td>\n",
       "      <td>Rice, paddy</td>\n",
       "      <td>1991</td>\n",
       "      <td>28538</td>\n",
       "      <td>1485.0</td>\n",
       "      <td>121.0</td>\n",
       "      <td>15.36</td>\n",
       "    </tr>\n",
       "    <tr>\n",
       "      <th>9</th>\n",
       "      <td>9</td>\n",
       "      <td>Albania</td>\n",
       "      <td>Sorghum</td>\n",
       "      <td>1991</td>\n",
       "      <td>6667</td>\n",
       "      <td>1485.0</td>\n",
       "      <td>121.0</td>\n",
       "      <td>15.36</td>\n",
       "    </tr>\n",
       "  </tbody>\n",
       "</table>\n",
       "</div>"
      ],
      "text/plain": [
       "   Unnamed: 0     Area         Item  Year  hg/ha_yield  \\\n",
       "0           0  Albania        Maize  1990        36613   \n",
       "1           1  Albania     Potatoes  1990        66667   \n",
       "2           2  Albania  Rice, paddy  1990        23333   \n",
       "3           3  Albania      Sorghum  1990        12500   \n",
       "4           4  Albania     Soybeans  1990         7000   \n",
       "5           5  Albania        Wheat  1990        30197   \n",
       "6           6  Albania        Maize  1991        29068   \n",
       "7           7  Albania     Potatoes  1991        77818   \n",
       "8           8  Albania  Rice, paddy  1991        28538   \n",
       "9           9  Albania      Sorghum  1991         6667   \n",
       "\n",
       "   average_rain_fall_mm_per_year  pesticides_tonnes  avg_temp  \n",
       "0                         1485.0              121.0     16.37  \n",
       "1                         1485.0              121.0     16.37  \n",
       "2                         1485.0              121.0     16.37  \n",
       "3                         1485.0              121.0     16.37  \n",
       "4                         1485.0              121.0     16.37  \n",
       "5                         1485.0              121.0     16.37  \n",
       "6                         1485.0              121.0     15.36  \n",
       "7                         1485.0              121.0     15.36  \n",
       "8                         1485.0              121.0     15.36  \n",
       "9                         1485.0              121.0     15.36  "
      ]
     },
     "execution_count": 6,
     "metadata": {},
     "output_type": "execute_result"
    }
   ],
   "source": [
    "df=pd.read_csv('yield_df.csv')\n",
    "df.head(10)"
   ]
  },
  {
   "cell_type": "code",
   "execution_count": null,
   "id": "cf58f9a3-3224-448d-9027-7848ff198554",
   "metadata": {},
   "outputs": [
    {
     "ename": "TypeError",
     "evalue": "'tuple' object is not callable",
     "output_type": "error",
     "traceback": [
      "\u001b[1;31m---------------------------------------------------------------------------\u001b[0m",
      "\u001b[1;31mTypeError\u001b[0m                                 Traceback (most recent call last)",
      "Cell \u001b[1;32mIn[8], line 1\u001b[0m\n\u001b[1;32m----> 1\u001b[0m \u001b[43mdf\u001b[49m\u001b[38;5;241;43m.\u001b[39;49m\u001b[43mshape\u001b[49m\u001b[43m(\u001b[49m\u001b[38;5;241;43m10\u001b[39;49m\u001b[43m,\u001b[49m\u001b[38;5;241;43m20\u001b[39;49m\u001b[43m)\u001b[49m\n",
      "\u001b[1;31mTypeError\u001b[0m: 'tuple' object is not callable"
     ]
    }
   ],
   "source": [
    "df.shape(10,20)"
   ]
  },
  {
   "cell_type": "code",
   "execution_count": null,
   "id": "6bf539d2-3e84-44aa-8a4f-b5d3babaa4b4",
   "metadata": {},
   "outputs": [
    {
     "data": {
      "text/plain": [
       "(28242, 8)"
      ]
     },
     "execution_count": 9,
     "metadata": {},
     "output_type": "execute_result"
    }
   ],
   "source": [
    "df.shape"
   ]
  },
  {
   "cell_type": "code",
   "execution_count": null,
   "id": "3116c1fa-c411-434d-b9d8-b0733cd75b12",
   "metadata": {},
   "outputs": [
    {
     "data": {
      "text/html": [
       "<div>\n",
       "<style scoped>\n",
       "    .dataframe tbody tr th:only-of-type {\n",
       "        vertical-align: middle;\n",
       "    }\n",
       "\n",
       "    .dataframe tbody tr th {\n",
       "        vertical-align: top;\n",
       "    }\n",
       "\n",
       "    .dataframe thead th {\n",
       "        text-align: right;\n",
       "    }\n",
       "</style>\n",
       "<table border=\"1\" class=\"dataframe\">\n",
       "  <thead>\n",
       "    <tr style=\"text-align: right;\">\n",
       "      <th></th>\n",
       "      <th>Unnamed: 0</th>\n",
       "      <th>Area</th>\n",
       "      <th>Item</th>\n",
       "      <th>Year</th>\n",
       "      <th>hg/ha_yield</th>\n",
       "      <th>average_rain_fall_mm_per_year</th>\n",
       "      <th>pesticides_tonnes</th>\n",
       "      <th>avg_temp</th>\n",
       "    </tr>\n",
       "  </thead>\n",
       "  <tbody>\n",
       "    <tr>\n",
       "      <th>0</th>\n",
       "      <td>False</td>\n",
       "      <td>False</td>\n",
       "      <td>False</td>\n",
       "      <td>False</td>\n",
       "      <td>False</td>\n",
       "      <td>False</td>\n",
       "      <td>False</td>\n",
       "      <td>False</td>\n",
       "    </tr>\n",
       "    <tr>\n",
       "      <th>1</th>\n",
       "      <td>False</td>\n",
       "      <td>False</td>\n",
       "      <td>False</td>\n",
       "      <td>False</td>\n",
       "      <td>False</td>\n",
       "      <td>False</td>\n",
       "      <td>False</td>\n",
       "      <td>False</td>\n",
       "    </tr>\n",
       "    <tr>\n",
       "      <th>2</th>\n",
       "      <td>False</td>\n",
       "      <td>False</td>\n",
       "      <td>False</td>\n",
       "      <td>False</td>\n",
       "      <td>False</td>\n",
       "      <td>False</td>\n",
       "      <td>False</td>\n",
       "      <td>False</td>\n",
       "    </tr>\n",
       "    <tr>\n",
       "      <th>3</th>\n",
       "      <td>False</td>\n",
       "      <td>False</td>\n",
       "      <td>False</td>\n",
       "      <td>False</td>\n",
       "      <td>False</td>\n",
       "      <td>False</td>\n",
       "      <td>False</td>\n",
       "      <td>False</td>\n",
       "    </tr>\n",
       "    <tr>\n",
       "      <th>4</th>\n",
       "      <td>False</td>\n",
       "      <td>False</td>\n",
       "      <td>False</td>\n",
       "      <td>False</td>\n",
       "      <td>False</td>\n",
       "      <td>False</td>\n",
       "      <td>False</td>\n",
       "      <td>False</td>\n",
       "    </tr>\n",
       "    <tr>\n",
       "      <th>...</th>\n",
       "      <td>...</td>\n",
       "      <td>...</td>\n",
       "      <td>...</td>\n",
       "      <td>...</td>\n",
       "      <td>...</td>\n",
       "      <td>...</td>\n",
       "      <td>...</td>\n",
       "      <td>...</td>\n",
       "    </tr>\n",
       "    <tr>\n",
       "      <th>28237</th>\n",
       "      <td>False</td>\n",
       "      <td>False</td>\n",
       "      <td>False</td>\n",
       "      <td>False</td>\n",
       "      <td>False</td>\n",
       "      <td>False</td>\n",
       "      <td>False</td>\n",
       "      <td>False</td>\n",
       "    </tr>\n",
       "    <tr>\n",
       "      <th>28238</th>\n",
       "      <td>False</td>\n",
       "      <td>False</td>\n",
       "      <td>False</td>\n",
       "      <td>False</td>\n",
       "      <td>False</td>\n",
       "      <td>False</td>\n",
       "      <td>False</td>\n",
       "      <td>False</td>\n",
       "    </tr>\n",
       "    <tr>\n",
       "      <th>28239</th>\n",
       "      <td>False</td>\n",
       "      <td>False</td>\n",
       "      <td>False</td>\n",
       "      <td>False</td>\n",
       "      <td>False</td>\n",
       "      <td>False</td>\n",
       "      <td>False</td>\n",
       "      <td>False</td>\n",
       "    </tr>\n",
       "    <tr>\n",
       "      <th>28240</th>\n",
       "      <td>False</td>\n",
       "      <td>False</td>\n",
       "      <td>False</td>\n",
       "      <td>False</td>\n",
       "      <td>False</td>\n",
       "      <td>False</td>\n",
       "      <td>False</td>\n",
       "      <td>False</td>\n",
       "    </tr>\n",
       "    <tr>\n",
       "      <th>28241</th>\n",
       "      <td>False</td>\n",
       "      <td>False</td>\n",
       "      <td>False</td>\n",
       "      <td>False</td>\n",
       "      <td>False</td>\n",
       "      <td>False</td>\n",
       "      <td>False</td>\n",
       "      <td>False</td>\n",
       "    </tr>\n",
       "  </tbody>\n",
       "</table>\n",
       "<p>28242 rows × 8 columns</p>\n",
       "</div>"
      ],
      "text/plain": [
       "       Unnamed: 0   Area   Item   Year  hg/ha_yield  \\\n",
       "0           False  False  False  False        False   \n",
       "1           False  False  False  False        False   \n",
       "2           False  False  False  False        False   \n",
       "3           False  False  False  False        False   \n",
       "4           False  False  False  False        False   \n",
       "...           ...    ...    ...    ...          ...   \n",
       "28237       False  False  False  False        False   \n",
       "28238       False  False  False  False        False   \n",
       "28239       False  False  False  False        False   \n",
       "28240       False  False  False  False        False   \n",
       "28241       False  False  False  False        False   \n",
       "\n",
       "       average_rain_fall_mm_per_year  pesticides_tonnes  avg_temp  \n",
       "0                              False              False     False  \n",
       "1                              False              False     False  \n",
       "2                              False              False     False  \n",
       "3                              False              False     False  \n",
       "4                              False              False     False  \n",
       "...                              ...                ...       ...  \n",
       "28237                          False              False     False  \n",
       "28238                          False              False     False  \n",
       "28239                          False              False     False  \n",
       "28240                          False              False     False  \n",
       "28241                          False              False     False  \n",
       "\n",
       "[28242 rows x 8 columns]"
      ]
     },
     "execution_count": 10,
     "metadata": {},
     "output_type": "execute_result"
    }
   ],
   "source": [
    "df.isnull()"
   ]
  },
  {
   "cell_type": "code",
   "execution_count": null,
   "id": "5128f6cc-2363-4df4-b7a4-deccedd17e9a",
   "metadata": {},
   "outputs": [
    {
     "data": {
      "text/plain": [
       "Unnamed: 0                       0\n",
       "Area                             0\n",
       "Item                             0\n",
       "Year                             0\n",
       "hg/ha_yield                      0\n",
       "average_rain_fall_mm_per_year    0\n",
       "pesticides_tonnes                0\n",
       "avg_temp                         0\n",
       "dtype: int64"
      ]
     },
     "execution_count": 28,
     "metadata": {},
     "output_type": "execute_result"
    }
   ],
   "source": [
    "df.isnull().sum()\n"
   ]
  },
  {
   "cell_type": "code",
   "execution_count": null,
   "id": "326f8130-0b57-4a9b-8f54-2d1f7bf25a0c",
   "metadata": {},
   "outputs": [
    {
     "data": {
      "text/plain": [
       "0"
      ]
     },
     "execution_count": 11,
     "metadata": {},
     "output_type": "execute_result"
    }
   ],
   "source": [
    "df.duplicated().sum()"
   ]
  },
  {
   "cell_type": "code",
   "execution_count": null,
   "id": "1477bb32-15cf-4670-ad22-7deb54367f1a",
   "metadata": {
    "scrolled": true
   },
   "outputs": [
    {
     "data": {
      "text/html": [
       "<div>\n",
       "<style scoped>\n",
       "    .dataframe tbody tr th:only-of-type {\n",
       "        vertical-align: middle;\n",
       "    }\n",
       "\n",
       "    .dataframe tbody tr th {\n",
       "        vertical-align: top;\n",
       "    }\n",
       "\n",
       "    .dataframe thead th {\n",
       "        text-align: right;\n",
       "    }\n",
       "</style>\n",
       "<table border=\"1\" class=\"dataframe\">\n",
       "  <thead>\n",
       "    <tr style=\"text-align: right;\">\n",
       "      <th></th>\n",
       "      <th>Unnamed: 0</th>\n",
       "      <th>Year</th>\n",
       "      <th>hg/ha_yield</th>\n",
       "      <th>average_rain_fall_mm_per_year</th>\n",
       "      <th>pesticides_tonnes</th>\n",
       "      <th>avg_temp</th>\n",
       "    </tr>\n",
       "  </thead>\n",
       "  <tbody>\n",
       "    <tr>\n",
       "      <th>count</th>\n",
       "      <td>28242.000000</td>\n",
       "      <td>28242.000000</td>\n",
       "      <td>28242.000000</td>\n",
       "      <td>28242.00000</td>\n",
       "      <td>28242.000000</td>\n",
       "      <td>28242.000000</td>\n",
       "    </tr>\n",
       "    <tr>\n",
       "      <th>mean</th>\n",
       "      <td>14120.500000</td>\n",
       "      <td>2001.544296</td>\n",
       "      <td>77053.332094</td>\n",
       "      <td>1149.05598</td>\n",
       "      <td>37076.909344</td>\n",
       "      <td>20.542627</td>\n",
       "    </tr>\n",
       "    <tr>\n",
       "      <th>std</th>\n",
       "      <td>8152.907488</td>\n",
       "      <td>7.051905</td>\n",
       "      <td>84956.612897</td>\n",
       "      <td>709.81215</td>\n",
       "      <td>59958.784665</td>\n",
       "      <td>6.312051</td>\n",
       "    </tr>\n",
       "    <tr>\n",
       "      <th>min</th>\n",
       "      <td>0.000000</td>\n",
       "      <td>1990.000000</td>\n",
       "      <td>50.000000</td>\n",
       "      <td>51.00000</td>\n",
       "      <td>0.040000</td>\n",
       "      <td>1.300000</td>\n",
       "    </tr>\n",
       "    <tr>\n",
       "      <th>25%</th>\n",
       "      <td>7060.250000</td>\n",
       "      <td>1995.000000</td>\n",
       "      <td>19919.250000</td>\n",
       "      <td>593.00000</td>\n",
       "      <td>1702.000000</td>\n",
       "      <td>16.702500</td>\n",
       "    </tr>\n",
       "    <tr>\n",
       "      <th>50%</th>\n",
       "      <td>14120.500000</td>\n",
       "      <td>2001.000000</td>\n",
       "      <td>38295.000000</td>\n",
       "      <td>1083.00000</td>\n",
       "      <td>17529.440000</td>\n",
       "      <td>21.510000</td>\n",
       "    </tr>\n",
       "    <tr>\n",
       "      <th>75%</th>\n",
       "      <td>21180.750000</td>\n",
       "      <td>2008.000000</td>\n",
       "      <td>104676.750000</td>\n",
       "      <td>1668.00000</td>\n",
       "      <td>48687.880000</td>\n",
       "      <td>26.000000</td>\n",
       "    </tr>\n",
       "    <tr>\n",
       "      <th>max</th>\n",
       "      <td>28241.000000</td>\n",
       "      <td>2013.000000</td>\n",
       "      <td>501412.000000</td>\n",
       "      <td>3240.00000</td>\n",
       "      <td>367778.000000</td>\n",
       "      <td>30.650000</td>\n",
       "    </tr>\n",
       "  </tbody>\n",
       "</table>\n",
       "</div>"
      ],
      "text/plain": [
       "         Unnamed: 0          Year    hg/ha_yield  \\\n",
       "count  28242.000000  28242.000000   28242.000000   \n",
       "mean   14120.500000   2001.544296   77053.332094   \n",
       "std     8152.907488      7.051905   84956.612897   \n",
       "min        0.000000   1990.000000      50.000000   \n",
       "25%     7060.250000   1995.000000   19919.250000   \n",
       "50%    14120.500000   2001.000000   38295.000000   \n",
       "75%    21180.750000   2008.000000  104676.750000   \n",
       "max    28241.000000   2013.000000  501412.000000   \n",
       "\n",
       "       average_rain_fall_mm_per_year  pesticides_tonnes      avg_temp  \n",
       "count                    28242.00000       28242.000000  28242.000000  \n",
       "mean                      1149.05598       37076.909344     20.542627  \n",
       "std                        709.81215       59958.784665      6.312051  \n",
       "min                         51.00000           0.040000      1.300000  \n",
       "25%                        593.00000        1702.000000     16.702500  \n",
       "50%                       1083.00000       17529.440000     21.510000  \n",
       "75%                       1668.00000       48687.880000     26.000000  \n",
       "max                       3240.00000      367778.000000     30.650000  "
      ]
     },
     "execution_count": 12,
     "metadata": {},
     "output_type": "execute_result"
    }
   ],
   "source": [
    "df.describe()"
   ]
  },
  {
   "cell_type": "code",
   "execution_count": null,
   "id": "a4dbd5f8-a51a-4fb8-b2c7-26a448617e5f",
   "metadata": {},
   "outputs": [
    {
     "data": {
      "image/png": "[encoded data removed]",
      "text/plain": [
       "<Figure size 1500x2000 with 1 Axes>"
      ]
     },
     "metadata": {},
     "output_type": "display_data"
    }
   ],
   "source": [
    "plt.figure(figsize=(15,20))\n",
    "sns.countplot(y=df['Area'])\n",
    "plt.show()"
   ]
  },
  {
   "cell_type": "code",
   "execution_count": null,
   "id": "d9426cce-d9bb-4f89-a1c9-8e3d2de71588",
   "metadata": {},
   "outputs": [
    {
     "name": "stderr",
     "output_type": "stream",
     "text": [
      "ERROR: Could not find a version that satisfies the requirement skleaen (from versions: none)\n",
      "ERROR: No matching distribution found for skleaen\n"
     ]
    }
   ],
   "source": [
    "!pip install skleaen"
   ]
  },
  {
   "cell_type": "code",
   "execution_count": 14,
   "id": "5f20a11d",
   "metadata": {},
   "outputs": [
    {
     "name": "stdout",
     "output_type": "stream",
     "text": [
      "Collecting sklearn"
     ]
    },
    {
     "name": "stderr",
     "output_type": "stream",
     "text": [
      "  error: subprocess-exited-with-error\n",
      "  \n",
      "  × Getting requirements to build wheel did not run successfully.\n",
      "  │ exit code: 1\n",
      "  ╰─> [15 lines of output]\n",
      "      The 'sklearn' PyPI package is deprecated, use 'scikit-learn'\n",
      "      rather than 'sklearn' for pip commands.\n",
      "      \n",
      "      Here is how to fix this error in the main use cases:\n",
      "      - use 'pip install scikit-learn' rather than 'pip install sklearn'\n",
      "      - replace 'sklearn' by 'scikit-learn' in your pip requirements files\n",
      "        (requirements.txt, setup.py, setup.cfg, Pipfile, etc ...)\n",
      "      - if the 'sklearn' package is used by one of your dependencies,\n",
      "        it would be great if you take some time to track which package uses\n",
      "        'sklearn' instead of 'scikit-learn' and report it to their issue tracker\n",
      "      - as a last resort, set the environment variable\n",
      "        SKLEARN_ALLOW_DEPRECATED_SKLEARN_PACKAGE_INSTALL=True to avoid this error\n",
      "      \n",
      "      More information is available at\n",
      "      https://github.com/scikit-learn/sklearn-pypi-package\n",
      "      [end of output]\n",
      "  \n",
      "  note: This error originates from a subprocess, and is likely not a problem with pip.\n",
      "error: subprocess-exited-with-error\n",
      "\n",
      "× Getting requirements to build wheel did not run successfully.\n",
      "│ exit code: 1\n",
      "╰─> See above for output.\n",
      "\n",
      "note: This error originates from a subprocess, and is likely not a problem with pip.\n"
     ]
    },
    {
     "name": "stdout",
     "output_type": "stream",
     "text": [
      "\n",
      "  Downloading sklearn-0.0.post12.tar.gz (2.6 kB)\n",
      "  Installing build dependencies: started\n",
      "  Installing build dependencies: finished with status 'done'\n",
      "  Getting requirements to build wheel: started\n",
      "  Getting requirements to build wheel: finished with status 'error'\n"
     ]
    }
   ],
   "source": [
    "!pip install sklearn"
   ]
  },
  {
   "cell_type": "code",
   "execution_count": 15,
   "id": "49825d88",
   "metadata": {},
   "outputs": [
    {
     "name": "stdout",
     "output_type": "stream",
     "text": [
      "Collecting scikit-learn\n",
      "  Downloading scikit_learn-1.4.1.post1-cp312-cp312-win_amd64.whl.metadata (11 kB)\n",
      "Requirement already satisfied: numpy<2.0,>=1.19.5 in c:\\users\\kumar\\appdata\\local\\programs\\python\\python312\\lib\\site-packages (from scikit-learn) (1.26.4)\n",
      "Collecting scipy>=1.6.0 (from scikit-learn)\n",
      "  Downloading scipy-1.12.0-cp312-cp312-win_amd64.whl.metadata (60 kB)\n",
      "     ---------------------------------------- 0.0/60.4 kB ? eta -:--:--\n",
      "     ---------------------------------------- 0.0/60.4 kB ? eta -:--:--\n",
      "     ------ --------------------------------- 10.2/60.4 kB ? eta -:--:--\n",
      "     -------------------------------------- 60.4/60.4 kB 643.6 kB/s eta 0:00:00\n",
      "Collecting joblib>=1.2.0 (from scikit-learn)\n",
      "  Downloading joblib-1.3.2-py3-none-any.whl.metadata (5.4 kB)\n",
      "Collecting threadpoolctl>=2.0.0 (from scikit-learn)\n",
      "  Downloading threadpoolctl-3.3.0-py3-none-any.whl.metadata (13 kB)\n",
      "Downloading scikit_learn-1.4.1.post1-cp312-cp312-win_amd64.whl (10.6 MB)\n",
      "   ---------------------------------------- 0.0/10.6 MB ? eta -:--:--\n",
      "   -- ------------------------------------- 0.5/10.6 MB 11.3 MB/s eta 0:00:01\n",
      "   ---- ----------------------------------- 1.1/10.6 MB 11.4 MB/s eta 0:00:01\n",
      "   ----- ---------------------------------- 1.6/10.6 MB 11.2 MB/s eta 0:00:01\n",
      "   ------- -------------------------------- 2.1/10.6 MB 11.1 MB/s eta 0:00:01\n",
      "   ---------- ----------------------------- 2.7/10.6 MB 11.6 MB/s eta 0:00:01\n",
      "   ------------ --------------------------- 3.3/10.6 MB 11.6 MB/s eta 0:00:01\n",
      "   -------------- ------------------------- 3.8/10.6 MB 11.5 MB/s eta 0:00:01\n",
      "   --------------- ------------------------ 4.2/10.6 MB 11.1 MB/s eta 0:00:01\n",
      "   ----------------- ---------------------- 4.6/10.6 MB 11.0 MB/s eta 0:00:01\n",
      "   ------------------- -------------------- 5.2/10.6 MB 11.1 MB/s eta 0:00:01\n",
      "   --------------------- ------------------ 5.8/10.6 MB 11.2 MB/s eta 0:00:01\n",
      "   ----------------------- ---------------- 6.3/10.6 MB 11.1 MB/s eta 0:00:01\n",
      "   ------------------------- -------------- 6.7/10.6 MB 11.0 MB/s eta 0:00:01\n",
      "   --------------------------- ------------ 7.3/10.6 MB 11.1 MB/s eta 0:00:01\n",
      "   ----------------------------- ---------- 7.8/10.6 MB 11.1 MB/s eta 0:00:01\n",
      "   ------------------------------- -------- 8.3/10.6 MB 11.0 MB/s eta 0:00:01\n",
      "   -------------------------------- ------- 8.6/10.6 MB 10.8 MB/s eta 0:00:01\n",
      "   ---------------------------------- ----- 9.3/10.6 MB 11.0 MB/s eta 0:00:01\n",
      "   ------------------------------------- -- 9.8/10.6 MB 11.0 MB/s eta 0:00:01\n",
      "   -------------------------------------- - 10.1/10.6 MB 10.8 MB/s eta 0:00:01\n",
      "   ---------------------------------------  10.6/10.6 MB 10.9 MB/s eta 0:00:01\n",
      "   ---------------------------------------- 10.6/10.6 MB 10.4 MB/s eta 0:00:00\n",
      "Downloading joblib-1.3.2-py3-none-any.whl (302 kB)\n",
      "   ---------------------------------------- 0.0/302.2 kB ? eta -:--:--\n",
      "   ---------------------------------------  297.0/302.2 kB 9.0 MB/s eta 0:00:01\n",
      "   ---------------------------------------- 302.2/302.2 kB 6.2 MB/s eta 0:00:00\n",
      "Downloading scipy-1.12.0-cp312-cp312-win_amd64.whl (45.8 MB)\n",
      "   ---------------------------------------- 0.0/45.8 MB ? eta -:--:--\n",
      "   ---------------------------------------- 0.5/45.8 MB 14.4 MB/s eta 0:00:04\n",
      "   - -------------------------------------- 1.2/45.8 MB 12.4 MB/s eta 0:00:04\n",
      "   - -------------------------------------- 1.8/45.8 MB 12.5 MB/s eta 0:00:04\n",
      "   - -------------------------------------- 2.3/45.8 MB 12.0 MB/s eta 0:00:04\n",
      "   -- ------------------------------------- 2.8/45.8 MB 11.9 MB/s eta 0:00:04\n",
      "   -- ------------------------------------- 3.3/45.8 MB 11.7 MB/s eta 0:00:04\n",
      "   --- ------------------------------------ 3.6/45.8 MB 11.0 MB/s eta 0:00:04\n",
      "   --- ------------------------------------ 3.7/45.8 MB 10.6 MB/s eta 0:00:04\n",
      "   --- ------------------------------------ 3.7/45.8 MB 10.6 MB/s eta 0:00:04\n",
      "   --- ------------------------------------ 3.7/45.8 MB 10.6 MB/s eta 0:00:04\n",
      "   --- ------------------------------------ 3.7/45.8 MB 10.6 MB/s eta 0:00:04\n",
      "   --- ------------------------------------ 3.7/45.8 MB 10.6 MB/s eta 0:00:04\n",
      "   --- ------------------------------------ 3.7/45.8 MB 10.6 MB/s eta 0:00:04\n",
      "   --- ------------------------------------ 3.7/45.8 MB 10.6 MB/s eta 0:00:04\n",
      "   --- ------------------------------------ 3.7/45.8 MB 10.6 MB/s eta 0:00:04\n",
      "   --- ------------------------------------ 3.7/45.8 MB 10.6 MB/s eta 0:00:04\n",
      "   --- ------------------------------------ 3.7/45.8 MB 10.6 MB/s eta 0:00:04\n",
      "   --- ------------------------------------ 3.7/45.8 MB 10.6 MB/s eta 0:00:04\n",
      "   --- ------------------------------------ 3.7/45.8 MB 10.6 MB/s eta 0:00:04\n",
      "   --- ------------------------------------ 3.7/45.8 MB 10.6 MB/s eta 0:00:04\n",
      "   --- ------------------------------------ 3.7/45.8 MB 10.6 MB/s eta 0:00:04\n",
      "   --- ------------------------------------ 3.7/45.8 MB 3.5 MB/s eta 0:00:12\n",
      "   --- ------------------------------------ 3.8/45.8 MB 3.4 MB/s eta 0:00:13\n",
      "   --- ------------------------------------ 4.2/45.8 MB 3.8 MB/s eta 0:00:12\n",
      "   ---- ----------------------------------- 4.9/45.8 MB 4.1 MB/s eta 0:00:11\n",
      "   ---- ----------------------------------- 5.7/45.8 MB 4.5 MB/s eta 0:00:10\n",
      "   ----- ---------------------------------- 6.2/45.8 MB 4.7 MB/s eta 0:00:09\n",
      "   ----- ---------------------------------- 6.8/45.8 MB 4.9 MB/s eta 0:00:08\n",
      "   ------ --------------------------------- 7.3/45.8 MB 5.2 MB/s eta 0:00:08\n",
      "   ------ --------------------------------- 7.9/45.8 MB 5.4 MB/s eta 0:00:07\n",
      "   ------- -------------------------------- 8.5/45.8 MB 5.7 MB/s eta 0:00:07\n",
      "   ------- -------------------------------- 9.0/45.8 MB 5.8 MB/s eta 0:00:07\n",
      "   -------- ------------------------------- 9.6/45.8 MB 6.0 MB/s eta 0:00:07\n",
      "   -------- ------------------------------- 10.1/45.8 MB 6.2 MB/s eta 0:00:06\n",
      "   --------- ------------------------------ 10.7/45.8 MB 6.2 MB/s eta 0:00:06\n",
      "   --------- ------------------------------ 11.3/45.8 MB 6.2 MB/s eta 0:00:06\n",
      "   ---------- ----------------------------- 12.0/45.8 MB 6.2 MB/s eta 0:00:06\n",
      "   ---------- ----------------------------- 12.5/45.8 MB 6.2 MB/s eta 0:00:06\n",
      "   ----------- ---------------------------- 13.0/45.8 MB 6.2 MB/s eta 0:00:06\n",
      "   ----------- ---------------------------- 13.6/45.8 MB 6.2 MB/s eta 0:00:06\n",
      "   ------------ --------------------------- 14.1/45.8 MB 11.5 MB/s eta 0:00:03\n",
      "   ------------ --------------------------- 14.6/45.8 MB 11.7 MB/s eta 0:00:03\n",
      "   ------------ --------------------------- 14.7/45.8 MB 11.3 MB/s eta 0:00:03\n",
      "   ------------ --------------------------- 14.7/45.8 MB 11.3 MB/s eta 0:00:03\n",
      "   ------------ --------------------------- 14.7/45.8 MB 11.3 MB/s eta 0:00:03\n",
      "   ------------- -------------------------- 15.1/45.8 MB 9.6 MB/s eta 0:00:04\n",
      "   ------------- -------------------------- 15.7/45.8 MB 9.6 MB/s eta 0:00:04\n",
      "   ------------- -------------------------- 15.8/45.8 MB 9.4 MB/s eta 0:00:04\n",
      "   -------------- ------------------------- 16.2/45.8 MB 9.4 MB/s eta 0:00:04\n",
      "   -------------- ------------------------- 16.4/45.8 MB 9.2 MB/s eta 0:00:04\n",
      "   -------------- ------------------------- 16.4/45.8 MB 9.2 MB/s eta 0:00:04\n",
      "   -------------- ------------------------- 16.4/45.8 MB 9.2 MB/s eta 0:00:04\n",
      "   -------------- ------------------------- 16.5/45.8 MB 7.9 MB/s eta 0:00:04\n",
      "   -------------- ------------------------- 16.8/45.8 MB 7.6 MB/s eta 0:00:04\n",
      "   -------------- ------------------------- 17.1/45.8 MB 7.5 MB/s eta 0:00:04\n",
      "   --------------- ------------------------ 17.8/45.8 MB 7.6 MB/s eta 0:00:04\n",
      "   ---------------- ----------------------- 18.3/45.8 MB 7.6 MB/s eta 0:00:04\n",
      "   ---------------- ----------------------- 18.9/45.8 MB 7.5 MB/s eta 0:00:04\n",
      "   ---------------- ----------------------- 19.4/45.8 MB 7.5 MB/s eta 0:00:04\n",
      "   ----------------- ---------------------- 20.0/45.8 MB 7.5 MB/s eta 0:00:04\n",
      "   ----------------- ---------------------- 20.6/45.8 MB 7.5 MB/s eta 0:00:04\n",
      "   ------------------ --------------------- 21.0/45.8 MB 7.4 MB/s eta 0:00:04\n",
      "   ------------------ --------------------- 21.5/45.8 MB 7.4 MB/s eta 0:00:04\n",
      "   ------------------- -------------------- 21.9/45.8 MB 7.4 MB/s eta 0:00:04\n",
      "   ------------------- -------------------- 22.6/45.8 MB 7.3 MB/s eta 0:00:04\n",
      "   -------------------- ------------------- 23.0/45.8 MB 7.3 MB/s eta 0:00:04\n",
      "   -------------------- ------------------- 23.6/45.8 MB 7.3 MB/s eta 0:00:04\n",
      "   --------------------- ------------------ 24.2/45.8 MB 7.3 MB/s eta 0:00:03\n",
      "   --------------------- ------------------ 24.8/45.8 MB 7.4 MB/s eta 0:00:03\n",
      "   ---------------------- ----------------- 25.5/45.8 MB 8.5 MB/s eta 0:00:03\n",
      "   ---------------------- ----------------- 25.9/45.8 MB 8.4 MB/s eta 0:00:03\n",
      "   ----------------------- ---------------- 26.6/45.8 MB 8.8 MB/s eta 0:00:03\n",
      "   ----------------------- ---------------- 27.1/45.8 MB 11.3 MB/s eta 0:00:02\n",
      "   ------------------------ --------------- 27.7/45.8 MB 11.1 MB/s eta 0:00:02\n",
      "   ------------------------ --------------- 28.2/45.8 MB 11.3 MB/s eta 0:00:02\n",
      "   ------------------------- -------------- 28.8/45.8 MB 11.1 MB/s eta 0:00:02\n",
      "   ------------------------- -------------- 29.3/45.8 MB 11.1 MB/s eta 0:00:02\n",
      "   ------------------------- -------------- 29.8/45.8 MB 11.1 MB/s eta 0:00:02\n",
      "   -------------------------- ------------- 30.4/45.8 MB 11.3 MB/s eta 0:00:02\n",
      "   --------------------------- ------------ 30.9/45.8 MB 11.3 MB/s eta 0:00:02\n",
      "   --------------------------- ------------ 31.5/45.8 MB 11.5 MB/s eta 0:00:02\n",
      "   ---------------------------- ----------- 32.1/45.8 MB 11.5 MB/s eta 0:00:02\n",
      "   ---------------------------- ----------- 32.6/45.8 MB 11.7 MB/s eta 0:00:02\n",
      "   ---------------------------- ----------- 33.2/45.8 MB 11.7 MB/s eta 0:00:02\n",
      "   ----------------------------- ---------- 33.7/45.8 MB 11.7 MB/s eta 0:00:02\n",
      "   ----------------------------- ---------- 34.3/45.8 MB 11.7 MB/s eta 0:00:01\n",
      "   ------------------------------ --------- 34.8/45.8 MB 11.7 MB/s eta 0:00:01\n",
      "   ------------------------------ --------- 35.3/45.8 MB 11.7 MB/s eta 0:00:01\n",
      "   ------------------------------- -------- 35.9/45.8 MB 11.9 MB/s eta 0:00:01\n",
      "   ------------------------------- -------- 36.5/45.8 MB 11.7 MB/s eta 0:00:01\n",
      "   -------------------------------- ------- 37.0/45.8 MB 11.7 MB/s eta 0:00:01\n",
      "   -------------------------------- ------- 37.5/45.8 MB 11.7 MB/s eta 0:00:01\n",
      "   --------------------------------- ------ 38.0/45.8 MB 11.5 MB/s eta 0:00:01\n",
      "   --------------------------------- ------ 38.6/45.8 MB 11.7 MB/s eta 0:00:01\n",
      "   ---------------------------------- ----- 39.1/45.8 MB 11.7 MB/s eta 0:00:01\n",
      "   ---------------------------------- ----- 39.7/45.8 MB 11.5 MB/s eta 0:00:01\n",
      "   ----------------------------------- ---- 40.2/45.8 MB 11.5 MB/s eta 0:00:01\n",
      "   ----------------------------------- ---- 40.7/45.8 MB 11.5 MB/s eta 0:00:01\n",
      "   ------------------------------------ --- 41.2/45.8 MB 11.5 MB/s eta 0:00:01\n",
      "   ------------------------------------ --- 41.8/45.8 MB 11.5 MB/s eta 0:00:01\n",
      "   ------------------------------------- -- 42.4/45.8 MB 11.7 MB/s eta 0:00:01\n",
      "   ------------------------------------- -- 43.0/45.8 MB 11.5 MB/s eta 0:00:01\n",
      "   -------------------------------------- - 43.6/45.8 MB 11.5 MB/s eta 0:00:01\n",
      "   -------------------------------------- - 44.1/45.8 MB 11.5 MB/s eta 0:00:01\n",
      "   ---------------------------------------  44.7/45.8 MB 11.5 MB/s eta 0:00:01\n",
      "   ---------------------------------------  45.5/45.8 MB 11.5 MB/s eta 0:00:01\n",
      "   ---------------------------------------  45.8/45.8 MB 11.5 MB/s eta 0:00:01\n",
      "   ---------------------------------------  45.8/45.8 MB 11.5 MB/s eta 0:00:01\n",
      "   ---------------------------------------  45.8/45.8 MB 11.5 MB/s eta 0:00:01\n",
      "   ---------------------------------------  45.8/45.8 MB 11.5 MB/s eta 0:00:01\n",
      "   ---------------------------------------  45.8/45.8 MB 11.5 MB/s eta 0:00:01\n",
      "   ---------------------------------------- 45.8/45.8 MB 8.4 MB/s eta 0:00:00\n",
      "Downloading threadpoolctl-3.3.0-py3-none-any.whl (17 kB)\n",
      "Installing collected packages: threadpoolctl, scipy, joblib, scikit-learn\n",
      "Successfully installed joblib-1.3.2 scikit-learn-1.4.1.post1 scipy-1.12.0 threadpoolctl-3.3.0\n"
     ]
    }
   ],
   "source": [
    "!pip install scikit-learn"
   ]
  },
  {
   "cell_type": "code",
   "execution_count": 16,
   "id": "41687851",
   "metadata": {},
   "outputs": [
    {
     "ename": "SyntaxError",
     "evalue": "invalid syntax (3576232902.py, line 1)",
     "output_type": "error",
     "traceback": [
      "\u001b[1;36m  Cell \u001b[1;32mIn[16], line 1\u001b[1;36m\u001b[0m\n\u001b[1;33m    import scikit-learn as sklearn\u001b[0m\n\u001b[1;37m                 ^\u001b[0m\n\u001b[1;31mSyntaxError\u001b[0m\u001b[1;31m:\u001b[0m invalid syntax\n"
     ]
    }
   ],
   "source": [
    "import scikit-learn as sklearn"
   ]
  },
  {
   "cell_type": "code",
   "execution_count": 18,
   "id": "1b11e67d",
   "metadata": {},
   "outputs": [
    {
     "name": "stdout",
     "output_type": "stream",
     "text": [
      "Collecting Flask\n",
      "  Downloading flask-3.0.2-py3-none-any.whl.metadata (3.6 kB)\n",
      "Collecting Werkzeug>=3.0.0 (from Flask)\n",
      "  Downloading werkzeug-3.0.1-py3-none-any.whl.metadata (4.1 kB)\n",
      "Requirement already satisfied: Jinja2>=3.1.2 in c:\\users\\kumar\\appdata\\local\\programs\\python\\python312\\lib\\site-packages (from Flask) (3.1.2)\n",
      "Collecting itsdangerous>=2.1.2 (from Flask)\n",
      "  Downloading itsdangerous-2.1.2-py3-none-any.whl.metadata (2.9 kB)\n",
      "Collecting click>=8.1.3 (from Flask)\n",
      "  Downloading click-8.1.7-py3-none-any.whl.metadata (3.0 kB)\n",
      "Collecting blinker>=1.6.2 (from Flask)\n",
      "  Downloading blinker-1.7.0-py3-none-any.whl.metadata (1.9 kB)\n",
      "Requirement already satisfied: colorama in c:\\users\\kumar\\appdata\\local\\programs\\python\\python312\\lib\\site-packages (from click>=8.1.3->Flask) (0.4.6)\n",
      "Requirement already satisfied: MarkupSafe>=2.0 in c:\\users\\kumar\\appdata\\local\\programs\\python\\python312\\lib\\site-packages (from Jinja2>=3.1.2->Flask) (2.1.3)\n",
      "Downloading flask-3.0.2-py3-none-any.whl (101 kB)\n",
      "   ---------------------------------------- 0.0/101.3 kB ? eta -:--:--\n",
      "   ------------------------ --------------- 61.4/101.3 kB 1.1 MB/s eta 0:00:01\n",
      "   ---------------------------------------- 101.3/101.3 kB 1.5 MB/s eta 0:00:00\n",
      "Downloading blinker-1.7.0-py3-none-any.whl (13 kB)\n",
      "Downloading click-8.1.7-py3-none-any.whl (97 kB)\n",
      "   ---------------------------------------- 0.0/97.9 kB ? eta -:--:--\n",
      "   ---------------------------------------- 97.9/97.9 kB 2.8 MB/s eta 0:00:00\n",
      "Downloading itsdangerous-2.1.2-py3-none-any.whl (15 kB)\n",
      "Downloading werkzeug-3.0.1-py3-none-any.whl (226 kB)\n",
      "   ---------------------------------------- 0.0/226.7 kB ? eta -:--:--\n",
      "   ---------------------------------------- 226.7/226.7 kB 7.0 MB/s eta 0:00:00\n",
      "Installing collected packages: Werkzeug, itsdangerous, click, blinker, Flask\n",
      "Successfully installed Flask-3.0.2 Werkzeug-3.0.1 blinker-1.7.0 click-8.1.7 itsdangerous-2.1.2\n"
     ]
    }
   ],
   "source": [
    "!pip install Flask\n"
   ]
  },
  {
   "cell_type": "code",
   "execution_count": null,
   "id": "9687be3c",
   "metadata": {},
   "outputs": [],
   "source": []
  }
 ],
 "metadata": {
  "kernelspec": {
   "display_name": "Python 3 (ipykernel)",
   "language": "python",
   "name": "python3"
  },
  "language_info": {
   "codemirror_mode": {
    "name": "ipython",
    "version": 3
   },
   "file_extension": ".py",
   "mimetype": "text/x-python",
   "name": "python",
   "nbconvert_exporter": "python",
   "pygments_lexer": "ipython3",
   "version": "3.12.0"
  }
 },
 "nbformat": 4,
 "nbformat_minor": 5
}
